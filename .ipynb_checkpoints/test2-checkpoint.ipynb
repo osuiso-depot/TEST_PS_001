{
 "cells": [
  {
   "cell_type": "code",
   "execution_count": null,
   "id": "a852578c-5cfa-4e9e-a69e-064a1e559d5e",
   "metadata": {},
   "outputs": [],
   "source": [
    "!nvidia-smi"
   ]
  }
 ],
 "metadata": {
  "kernelspec": {
   "display_name": "Python 3 (ipykernel)",
   "language": "python",
   "name": "python3"
  },
  "language_info": {
   "codemirror_mode": {
    "name": "ipython",
    "version": 3
   },
   "file_extension": ".py",
   "mimetype": "text/x-python",
   "name": "python",
   "nbconvert_exporter": "python",
   "pygments_lexer": "ipython3",
   "version": "3.9.16"
  }
 },
 "nbformat": 4,
 "nbformat_minor": 5
}
